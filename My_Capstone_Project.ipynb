{
 "cells": [
  {
   "cell_type": "markdown",
   "metadata": {},
   "source": [
    "# Capstone Project"
   ]
  },
  {
   "cell_type": "markdown",
   "metadata": {},
   "source": [
    "## Introduction: Business Problem"
   ]
  },
  {
   "cell_type": "markdown",
   "metadata": {},
   "source": [
    "In this project we will try to find an optimal location for a Coffee shop. Specifically, this report will be targeted to stakeholders interested in opening an Coffee Shop in Beirut, Lebanon.\n",
    "\n",
    "Since the main customer target of the coffee shop would be university students, we would try to detect locations that are not crowded with coffee shops but as close as possible to as much univerities in the area.\n",
    "\n",
    "We will use our data science powers to generate a few most promissing neighborhoods based on this criteria. Advantages of each area will then be clearly expressed so that best possible final location can be chosen by stakeholders."
   ]
  },
  {
   "cell_type": "markdown",
   "metadata": {},
   "source": [
    "## Data"
   ]
  },
  {
   "cell_type": "markdown",
   "metadata": {},
   "source": [
    "Based on the definition of our problem, factors that will influence our decission are:\n",
    "* number of existing coffee shops in the neighborhood \n",
    "* Proximity distance to universities in the neighborhood\n",
    "\n",
    "We decided to use regularly spaced grid of locations, centered around the agregate center of the existing universities, to define our neighborhoods.\n",
    "\n",
    "Following data sources will be needed to extract/generate the required information:\n",
    "* number of universities and coffee shops in every neighborhood will be obtained using **Foursquare API**\n",
    "* Distance between cofee shops and the aggregate center of universities\n",
    "* coordinate of Beirut will be obtained using **Nominatim from geopy.geocoders**"
   ]
  }
 ],
 "metadata": {
  "kernelspec": {
   "display_name": "Python 3",
   "language": "python",
   "name": "python3"
  },
  "language_info": {
   "codemirror_mode": {
    "name": "ipython",
    "version": 3
   },
   "file_extension": ".py",
   "mimetype": "text/x-python",
   "name": "python",
   "nbconvert_exporter": "python",
   "pygments_lexer": "ipython3",
   "version": "3.7.6"
  }
 },
 "nbformat": 4,
 "nbformat_minor": 4
}
