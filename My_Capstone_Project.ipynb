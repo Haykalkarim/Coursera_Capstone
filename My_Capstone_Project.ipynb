{
 "cells": [
  {
   "cell_type": "markdown",
   "metadata": {},
   "source": [
    "# Capstone Project"
   ]
  },
  {
   "cell_type": "markdown",
   "metadata": {},
   "source": [
    "## Introduction: Business Problem"
   ]
  },
  {
   "cell_type": "markdown",
   "metadata": {},
   "source": [
    "In this project we will try to find an optimal location for a Coffee shop. Specifically, this report will be targeted to stakeholders interested in opening a Coffee Shop in Beirut, Lebanon.\n",
    "\n",
    "Since the main customer target of the coffee shop would be university students, we would try to detect locations that are not crowded with coffee shops but as close as possible to as much univerities in the area.\n",
    "\n",
    "We will use our data science powers to generate a few most promissing neighborhoods based on this criteria. Advantages of each area will then be clearly expressed so that best possible final location can be chosen by stakeholders."
   ]
  },
  {
   "cell_type": "markdown",
   "metadata": {},
   "source": [
    "## Data"
   ]
  },
  {
   "cell_type": "markdown",
   "metadata": {},
   "source": [
    "Based on the definition of our problem, factors that will influence our decission are:\n",
    "* number of existing coffee shops in the neighborhood \n",
    "* Proximity distance to universities in the neighborhood\n",
    "\n",
    "We decided to use regularly spaced grid of locations, centered around the agregate center of the existing universities, to define our neighborhoods.\n",
    "\n",
    "Following data sources will be needed to extract/generate the required information:\n",
    "* number of universities and coffee shops in every neighborhood will be obtained using **Foursquare API**\n",
    "* Distance between cofee shops and the aggregate center of universities\n",
    "* coordinate of Beirut will be obtained using **Nominatim from geopy.geocoders**"
   ]
  },
  {
   "cell_type": "code",
   "execution_count": 1,
   "metadata": {},
   "outputs": [
    {
     "name": "stdout",
     "output_type": "stream",
     "text": [
      "Libraries imported.\n"
     ]
    }
   ],
   "source": [
    "import numpy as np # library to handle data in a vectorized manner\n",
    "\n",
    "import pandas as pd # library for data analsysis\n",
    "pd.set_option('display.max_columns', None)\n",
    "pd.set_option('display.max_rows', None)\n",
    "\n",
    "import json # library to handle JSON files\n",
    "\n",
    "from geopy.geocoders import Nominatim # convert an address into latitude and longitude values\n",
    "\n",
    "import requests # library to handle requests\n",
    "from pandas.io.json import json_normalize # tranform JSON file into a pandas dataframe\n",
    "\n",
    "import folium # map rendering library\n",
    "\n",
    "print('Libraries imported.')"
   ]
  },
  {
   "cell_type": "code",
   "execution_count": 2,
   "metadata": {},
   "outputs": [
    {
     "name": "stdout",
     "output_type": "stream",
     "text": [
      "Your credentails:\n",
      "CLIENT_ID: SSZ12AZH55PYUSVDYFDDRWFA1FZOP2THRCSNEQMUG41MFMXK\n",
      "CLIENT_SECRET:VG2VHW2PYWJREDV2TAMYFOW2KGNTSAN4LN2SSE1W3LCXJ50W\n"
     ]
    }
   ],
   "source": [
    "CLIENT_ID = 'SSZ12AZH55PYUSVDYFDDRWFA1FZOP2THRCSNEQMUG41MFMXK' # your Foursquare ID\n",
    "CLIENT_SECRET = 'VG2VHW2PYWJREDV2TAMYFOW2KGNTSAN4LN2SSE1W3LCXJ50W' # your Foursquare Secret\n",
    "VERSION = '20180604'\n",
    "LIMIT = 30\n",
    "print('Your credentails:')\n",
    "print('CLIENT_ID: ' + CLIENT_ID)\n",
    "print('CLIENT_SECRET:' + CLIENT_SECRET)"
   ]
  },
  {
   "cell_type": "markdown",
   "metadata": {},
   "source": [
    "__Specify the Main destination__"
   ]
  },
  {
   "cell_type": "code",
   "execution_count": 3,
   "metadata": {},
   "outputs": [
    {
     "name": "stdout",
     "output_type": "stream",
     "text": [
      "33.8959203 35.47843\n"
     ]
    }
   ],
   "source": [
    "address = 'Beirut, Lebanon'\n",
    "\n",
    "geolocator = Nominatim(user_agent=\"foursquare_agent\")\n",
    "location = geolocator.geocode(address)\n",
    "latitude = location.latitude\n",
    "longitude = location.longitude\n",
    "print(latitude, longitude)"
   ]
  },
  {
   "cell_type": "markdown",
   "metadata": {},
   "source": [
    "__Specify the main query in the selected region__"
   ]
  },
  {
   "cell_type": "code",
   "execution_count": 4,
   "metadata": {},
   "outputs": [],
   "source": [
    "search_query_U = 'University'\n",
    "search_query_C = 'Cafe'\n",
    "radius = 1000\n",
    "R = radius"
   ]
  },
  {
   "cell_type": "markdown",
   "metadata": {},
   "source": [
    "__Define the corresponding Foursquare URL__"
   ]
  },
  {
   "cell_type": "code",
   "execution_count": 5,
   "metadata": {},
   "outputs": [],
   "source": [
    "url_U = 'https://api.foursquare.com/v2/venues/search?client_id={}&client_secret={}&ll={},{}&v={}&query={}&radius={}&limit={}'.format(CLIENT_ID, CLIENT_SECRET, latitude, longitude, VERSION, search_query_U, radius, LIMIT)\n",
    "url_C = 'https://api.foursquare.com/v2/venues/search?client_id={}&client_secret={}&ll={},{}&v={}&query={}&radius={}&limit={}'.format(CLIENT_ID, CLIENT_SECRET, latitude, longitude, VERSION, search_query_C, radius, LIMIT)"
   ]
  },
  {
   "cell_type": "markdown",
   "metadata": {},
   "source": [
    "__Send the GET Request and examine the results__"
   ]
  },
  {
   "cell_type": "code",
   "execution_count": 6,
   "metadata": {},
   "outputs": [],
   "source": [
    "results_U = requests.get(url_U).json()\n",
    "results_C = requests.get(url_C).json()"
   ]
  },
  {
   "cell_type": "markdown",
   "metadata": {},
   "source": [
    "__Transform the JSON data into a pandas dataframe__"
   ]
  },
  {
   "cell_type": "code",
   "execution_count": 7,
   "metadata": {},
   "outputs": [
    {
     "name": "stderr",
     "output_type": "stream",
     "text": [
      "C:\\Users\\Karim\\anaconda3\\lib\\site-packages\\ipykernel_launcher.py:2: FutureWarning: pandas.io.json.json_normalize is deprecated, use pandas.json_normalize instead\n",
      "  \n",
      "C:\\Users\\Karim\\anaconda3\\lib\\site-packages\\ipykernel_launcher.py:5: FutureWarning: pandas.io.json.json_normalize is deprecated, use pandas.json_normalize instead\n",
      "  \"\"\"\n"
     ]
    }
   ],
   "source": [
    "venues_U = results_U['response']['venues']\n",
    "df_U = json_normalize(venues_U)\n",
    "\n",
    "venues_C = results_C['response']['venues']\n",
    "df_C = json_normalize(venues_C)"
   ]
  },
  {
   "cell_type": "markdown",
   "metadata": {},
   "source": [
    "__Dataframe filtering__"
   ]
  },
  {
   "cell_type": "code",
   "execution_count": 8,
   "metadata": {},
   "outputs": [],
   "source": [
    "# function that extracts the category of the venue\n",
    "def get_category_type(row):\n",
    "    try:\n",
    "        categories_list = row['categories']\n",
    "    except:\n",
    "        categories_list = row['venue.categories']\n",
    "        \n",
    "    if len(categories_list) == 0:\n",
    "        return None\n",
    "    else:\n",
    "        return categories_list[0]['name']"
   ]
  },
  {
   "cell_type": "markdown",
   "metadata": {},
   "source": [
    "__Universities Dataframe__"
   ]
  },
  {
   "cell_type": "code",
   "execution_count": 9,
   "metadata": {},
   "outputs": [
    {
     "data": {
      "text/html": [
       "<div>\n",
       "<style scoped>\n",
       "    .dataframe tbody tr th:only-of-type {\n",
       "        vertical-align: middle;\n",
       "    }\n",
       "\n",
       "    .dataframe tbody tr th {\n",
       "        vertical-align: top;\n",
       "    }\n",
       "\n",
       "    .dataframe thead th {\n",
       "        text-align: right;\n",
       "    }\n",
       "</style>\n",
       "<table border=\"1\" class=\"dataframe\">\n",
       "  <thead>\n",
       "    <tr style=\"text-align: right;\">\n",
       "      <th></th>\n",
       "      <th>name</th>\n",
       "      <th>categories</th>\n",
       "      <th>address</th>\n",
       "      <th>lat</th>\n",
       "      <th>lng</th>\n",
       "      <th>labeledLatLngs</th>\n",
       "      <th>distance</th>\n",
       "      <th>cc</th>\n",
       "      <th>city</th>\n",
       "      <th>state</th>\n",
       "      <th>country</th>\n",
       "      <th>formattedAddress</th>\n",
       "      <th>crossStreet</th>\n",
       "      <th>postalCode</th>\n",
       "      <th>id</th>\n",
       "    </tr>\n",
       "  </thead>\n",
       "  <tbody>\n",
       "    <tr>\n",
       "      <th>0</th>\n",
       "      <td>American University of Beirut (AUB)</td>\n",
       "      <td>University</td>\n",
       "      <td>Bliss St.</td>\n",
       "      <td>33.900876</td>\n",
       "      <td>35.481420</td>\n",
       "      <td>[{'label': 'display', 'lat': 33.90087600121215...</td>\n",
       "      <td>616</td>\n",
       "      <td>LB</td>\n",
       "      <td>بيروت</td>\n",
       "      <td>محافظة بيروت</td>\n",
       "      <td>لبنان</td>\n",
       "      <td>[Bliss St., بيروت, لبنان]</td>\n",
       "      <td>NaN</td>\n",
       "      <td>NaN</td>\n",
       "      <td>4b69411bf964a520009d2be3</td>\n",
       "    </tr>\n",
       "    <tr>\n",
       "      <th>5</th>\n",
       "      <td>Lebanese American University (LAU)</td>\n",
       "      <td>University</td>\n",
       "      <td>Qoreitem</td>\n",
       "      <td>33.892897</td>\n",
       "      <td>35.477557</td>\n",
       "      <td>[{'label': 'display', 'lat': 33.89289677097259...</td>\n",
       "      <td>346</td>\n",
       "      <td>LB</td>\n",
       "      <td>بيروت</td>\n",
       "      <td>محافظة بيروت</td>\n",
       "      <td>لبنان</td>\n",
       "      <td>[Qoreitem, بيروت, لبنان]</td>\n",
       "      <td>NaN</td>\n",
       "      <td>NaN</td>\n",
       "      <td>4b66b81bf964a52093282be3</td>\n",
       "    </tr>\n",
       "    <tr>\n",
       "      <th>11</th>\n",
       "      <td>University for Seniors - UFS</td>\n",
       "      <td>University</td>\n",
       "      <td>American University of Beirut</td>\n",
       "      <td>33.899539</td>\n",
       "      <td>35.484577</td>\n",
       "      <td>[{'label': 'display', 'lat': 33.899539, 'lng':...</td>\n",
       "      <td>696</td>\n",
       "      <td>LB</td>\n",
       "      <td>بيروت</td>\n",
       "      <td>محافظة بيروت</td>\n",
       "      <td>لبنان</td>\n",
       "      <td>[American University of Beirut (REP Office, Ol...</td>\n",
       "      <td>REP Office, Old Medical Building</td>\n",
       "      <td>NaN</td>\n",
       "      <td>56bb5901498e28bd25c64b82</td>\n",
       "    </tr>\n",
       "    <tr>\n",
       "      <th>12</th>\n",
       "      <td>Queen university residence</td>\n",
       "      <td>University</td>\n",
       "      <td>NaN</td>\n",
       "      <td>33.893570</td>\n",
       "      <td>35.477879</td>\n",
       "      <td>[{'label': 'display', 'lat': 33.89357, 'lng': ...</td>\n",
       "      <td>266</td>\n",
       "      <td>LB</td>\n",
       "      <td>NaN</td>\n",
       "      <td>NaN</td>\n",
       "      <td>لبنان</td>\n",
       "      <td>[لبنان]</td>\n",
       "      <td>NaN</td>\n",
       "      <td>NaN</td>\n",
       "      <td>5410767d498eb9a90fb08378</td>\n",
       "    </tr>\n",
       "    <tr>\n",
       "      <th>13</th>\n",
       "      <td>Jinan University</td>\n",
       "      <td>University</td>\n",
       "      <td>Georges Assi</td>\n",
       "      <td>33.893690</td>\n",
       "      <td>35.488678</td>\n",
       "      <td>[{'label': 'display', 'lat': 33.89369, 'lng': ...</td>\n",
       "      <td>978</td>\n",
       "      <td>LB</td>\n",
       "      <td>بيروت</td>\n",
       "      <td>محافظة بيروت</td>\n",
       "      <td>لبنان</td>\n",
       "      <td>[Georges Assi (Sanayeh), بيروت 5261, لبنان]</td>\n",
       "      <td>Sanayeh</td>\n",
       "      <td>5261</td>\n",
       "      <td>52b94765498e56b430bbd693</td>\n",
       "    </tr>\n",
       "  </tbody>\n",
       "</table>\n",
       "</div>"
      ],
      "text/plain": [
       "                                   name  categories  \\\n",
       "0   American University of Beirut (AUB)  University   \n",
       "5    Lebanese American University (LAU)  University   \n",
       "11         University for Seniors - UFS  University   \n",
       "12           Queen university residence  University   \n",
       "13                     Jinan University  University   \n",
       "\n",
       "                          address        lat        lng  \\\n",
       "0                       Bliss St.  33.900876  35.481420   \n",
       "5                        Qoreitem  33.892897  35.477557   \n",
       "11  American University of Beirut  33.899539  35.484577   \n",
       "12                            NaN  33.893570  35.477879   \n",
       "13                   Georges Assi  33.893690  35.488678   \n",
       "\n",
       "                                       labeledLatLngs  distance  cc   city  \\\n",
       "0   [{'label': 'display', 'lat': 33.90087600121215...       616  LB  بيروت   \n",
       "5   [{'label': 'display', 'lat': 33.89289677097259...       346  LB  بيروت   \n",
       "11  [{'label': 'display', 'lat': 33.899539, 'lng':...       696  LB  بيروت   \n",
       "12  [{'label': 'display', 'lat': 33.89357, 'lng': ...       266  LB    NaN   \n",
       "13  [{'label': 'display', 'lat': 33.89369, 'lng': ...       978  LB  بيروت   \n",
       "\n",
       "           state country                                   formattedAddress  \\\n",
       "0   محافظة بيروت   لبنان                          [Bliss St., بيروت, لبنان]   \n",
       "5   محافظة بيروت   لبنان                           [Qoreitem, بيروت, لبنان]   \n",
       "11  محافظة بيروت   لبنان  [American University of Beirut (REP Office, Ol...   \n",
       "12           NaN   لبنان                                            [لبنان]   \n",
       "13  محافظة بيروت   لبنان        [Georges Assi (Sanayeh), بيروت 5261, لبنان]   \n",
       "\n",
       "                         crossStreet postalCode                        id  \n",
       "0                                NaN        NaN  4b69411bf964a520009d2be3  \n",
       "5                                NaN        NaN  4b66b81bf964a52093282be3  \n",
       "11  REP Office, Old Medical Building        NaN  56bb5901498e28bd25c64b82  \n",
       "12                               NaN        NaN  5410767d498eb9a90fb08378  \n",
       "13                           Sanayeh       5261  52b94765498e56b430bbd693  "
      ]
     },
     "execution_count": 9,
     "metadata": {},
     "output_type": "execute_result"
    }
   ],
   "source": [
    "# keep only columns that include venue name, and anything that is associated with location\n",
    "filtered_columns_U = ['name', 'categories'] + [col for col in df_U.columns if col.startswith('location.')] + ['id']\n",
    "df_fil_U = df_U.loc[:, filtered_columns_U]\n",
    "\n",
    "# filter the category for each row\n",
    "df_fil_U['categories'] = df_fil_U.apply(get_category_type, axis=1)\n",
    "\n",
    "# clean column names by keeping only last term\n",
    "df_fil_U.columns = [column.split('.')[-1] for column in df_fil_U.columns]\n",
    "\n",
    "# Keep the rows containing a category different than University\n",
    "univ = df_fil_U[df_fil_U['categories'].str.contains('University')]\n",
    "univ.head()"
   ]
  },
  {
   "cell_type": "markdown",
   "metadata": {},
   "source": [
    "__Coffee shops Dataframe__"
   ]
  },
  {
   "cell_type": "code",
   "execution_count": 10,
   "metadata": {},
   "outputs": [
    {
     "data": {
      "text/html": [
       "<div>\n",
       "<style scoped>\n",
       "    .dataframe tbody tr th:only-of-type {\n",
       "        vertical-align: middle;\n",
       "    }\n",
       "\n",
       "    .dataframe tbody tr th {\n",
       "        vertical-align: top;\n",
       "    }\n",
       "\n",
       "    .dataframe thead th {\n",
       "        text-align: right;\n",
       "    }\n",
       "</style>\n",
       "<table border=\"1\" class=\"dataframe\">\n",
       "  <thead>\n",
       "    <tr style=\"text-align: right;\">\n",
       "      <th></th>\n",
       "      <th>name</th>\n",
       "      <th>categories</th>\n",
       "      <th>address</th>\n",
       "      <th>crossStreet</th>\n",
       "      <th>lat</th>\n",
       "      <th>lng</th>\n",
       "      <th>labeledLatLngs</th>\n",
       "      <th>distance</th>\n",
       "      <th>cc</th>\n",
       "      <th>city</th>\n",
       "      <th>state</th>\n",
       "      <th>country</th>\n",
       "      <th>formattedAddress</th>\n",
       "      <th>id</th>\n",
       "    </tr>\n",
       "  </thead>\n",
       "  <tbody>\n",
       "    <tr>\n",
       "      <th>0</th>\n",
       "      <td>Cafe Hamra</td>\n",
       "      <td>Café</td>\n",
       "      <td>Hamra Main Street</td>\n",
       "      <td>Main St</td>\n",
       "      <td>33.896092</td>\n",
       "      <td>35.479447</td>\n",
       "      <td>[{'label': 'display', 'lat': 33.896092, 'lng':...</td>\n",
       "      <td>95</td>\n",
       "      <td>LB</td>\n",
       "      <td>بيروت</td>\n",
       "      <td>محافظة بيروت</td>\n",
       "      <td>لبنان</td>\n",
       "      <td>[Hamra Main Street (Main St), بيروت, لبنان]</td>\n",
       "      <td>4cb82b7143ec6dcb4cf29231</td>\n",
       "    </tr>\n",
       "    <tr>\n",
       "      <th>1</th>\n",
       "      <td>Cafe Younes</td>\n",
       "      <td>Café</td>\n",
       "      <td>Nehme Yafet, Commodore</td>\n",
       "      <td>NaN</td>\n",
       "      <td>33.895523</td>\n",
       "      <td>35.479906</td>\n",
       "      <td>[{'label': 'display', 'lat': 33.89552254091945...</td>\n",
       "      <td>143</td>\n",
       "      <td>LB</td>\n",
       "      <td>بيروت</td>\n",
       "      <td>محافظة بيروت</td>\n",
       "      <td>لبنان</td>\n",
       "      <td>[Nehme Yafet, Commodore, بيروت, لبنان]</td>\n",
       "      <td>4b67080af964a520f2352be3</td>\n",
       "    </tr>\n",
       "    <tr>\n",
       "      <th>2</th>\n",
       "      <td>alia cafe - hamra street (عليا)</td>\n",
       "      <td>Café</td>\n",
       "      <td>NaN</td>\n",
       "      <td>NaN</td>\n",
       "      <td>33.895254</td>\n",
       "      <td>35.486288</td>\n",
       "      <td>[{'label': 'display', 'lat': 33.89525368454582...</td>\n",
       "      <td>729</td>\n",
       "      <td>LB</td>\n",
       "      <td>NaN</td>\n",
       "      <td>NaN</td>\n",
       "      <td>لبنان</td>\n",
       "      <td>[لبنان]</td>\n",
       "      <td>525aa805498e2bc055d9bbe4</td>\n",
       "    </tr>\n",
       "    <tr>\n",
       "      <th>3</th>\n",
       "      <td>Palace Cafe</td>\n",
       "      <td>Café</td>\n",
       "      <td>Manara</td>\n",
       "      <td>NaN</td>\n",
       "      <td>33.900454</td>\n",
       "      <td>35.470093</td>\n",
       "      <td>[{'label': 'display', 'lat': 33.90045387341104...</td>\n",
       "      <td>920</td>\n",
       "      <td>LB</td>\n",
       "      <td>NaN</td>\n",
       "      <td>محافظة بيروت</td>\n",
       "      <td>لبنان</td>\n",
       "      <td>[Manara, لبنان]</td>\n",
       "      <td>4dc5306552b1e8f9f7ccc6f0</td>\n",
       "    </tr>\n",
       "    <tr>\n",
       "      <th>4</th>\n",
       "      <td>The Deck Café</td>\n",
       "      <td>Seafood Restaurant</td>\n",
       "      <td>NaN</td>\n",
       "      <td>NaN</td>\n",
       "      <td>33.893382</td>\n",
       "      <td>35.467860</td>\n",
       "      <td>[{'label': 'display', 'lat': 33.893382, 'lng':...</td>\n",
       "      <td>1016</td>\n",
       "      <td>LB</td>\n",
       "      <td>بيروت</td>\n",
       "      <td>محافظة بيروت</td>\n",
       "      <td>لبنان</td>\n",
       "      <td>[بيروت, لبنان]</td>\n",
       "      <td>56432dc2498e9b29849d85d0</td>\n",
       "    </tr>\n",
       "  </tbody>\n",
       "</table>\n",
       "</div>"
      ],
      "text/plain": [
       "                              name          categories  \\\n",
       "0                       Cafe Hamra                Café   \n",
       "1                      Cafe Younes                Café   \n",
       "2  alia cafe - hamra street (عليا)                Café   \n",
       "3                      Palace Cafe                Café   \n",
       "4                    The Deck Café  Seafood Restaurant   \n",
       "\n",
       "                  address crossStreet        lat        lng  \\\n",
       "0       Hamra Main Street     Main St  33.896092  35.479447   \n",
       "1  Nehme Yafet, Commodore         NaN  33.895523  35.479906   \n",
       "2                     NaN         NaN  33.895254  35.486288   \n",
       "3                  Manara         NaN  33.900454  35.470093   \n",
       "4                     NaN         NaN  33.893382  35.467860   \n",
       "\n",
       "                                      labeledLatLngs  distance  cc   city  \\\n",
       "0  [{'label': 'display', 'lat': 33.896092, 'lng':...        95  LB  بيروت   \n",
       "1  [{'label': 'display', 'lat': 33.89552254091945...       143  LB  بيروت   \n",
       "2  [{'label': 'display', 'lat': 33.89525368454582...       729  LB    NaN   \n",
       "3  [{'label': 'display', 'lat': 33.90045387341104...       920  LB    NaN   \n",
       "4  [{'label': 'display', 'lat': 33.893382, 'lng':...      1016  LB  بيروت   \n",
       "\n",
       "          state country                             formattedAddress  \\\n",
       "0  محافظة بيروت   لبنان  [Hamra Main Street (Main St), بيروت, لبنان]   \n",
       "1  محافظة بيروت   لبنان       [Nehme Yafet, Commodore, بيروت, لبنان]   \n",
       "2           NaN   لبنان                                      [لبنان]   \n",
       "3  محافظة بيروت   لبنان                              [Manara, لبنان]   \n",
       "4  محافظة بيروت   لبنان                               [بيروت, لبنان]   \n",
       "\n",
       "                         id  \n",
       "0  4cb82b7143ec6dcb4cf29231  \n",
       "1  4b67080af964a520f2352be3  \n",
       "2  525aa805498e2bc055d9bbe4  \n",
       "3  4dc5306552b1e8f9f7ccc6f0  \n",
       "4  56432dc2498e9b29849d85d0  "
      ]
     },
     "execution_count": 10,
     "metadata": {},
     "output_type": "execute_result"
    }
   ],
   "source": [
    "# keep only columns that include venue name, and anything that is associated with location\n",
    "filtered_columns_C = ['name', 'categories'] + [col for col in df_C.columns if col.startswith('location.')] + ['id']\n",
    "df_fil_C = df_C.loc[:, filtered_columns_C]\n",
    "\n",
    "# filter the category for each row\n",
    "df_fil_C['categories'] = df_fil_C.apply(get_category_type, axis=1)\n",
    "\n",
    "# clean column names by keeping only last term\n",
    "df_fil_C.columns = [column.split('.')[-1] for column in df_fil_C.columns]\n",
    "\n",
    "CS = df_fil_C\n",
    "CS.head()"
   ]
  },
  {
   "cell_type": "markdown",
   "metadata": {},
   "source": [
    "__Calculation of the aggregate center of the existing universities__"
   ]
  },
  {
   "cell_type": "code",
   "execution_count": 11,
   "metadata": {},
   "outputs": [
    {
     "name": "stdout",
     "output_type": "stream",
     "text": [
      "The coordinates of the aggregate center of the universities existing in the neighborhood is:\n",
      " LAT: 33.89611435443695 LNG: 35.48202214912109\n"
     ]
    }
   ],
   "source": [
    "# Calculation of the aggregate center of the existing universities\n",
    "a_center_lat = univ['lat'].mean()\n",
    "a_center_lng = univ['lng'].mean()\n",
    "print('The coordinates of the aggregate center of the universities existing in the neighborhood is:\\n', 'LAT:', a_center_lat ,'LNG:', a_center_lng)"
   ]
  },
  {
   "cell_type": "markdown",
   "metadata": {},
   "source": [
    "__Defining the functions to calculate the coordinates and the distance between two points__"
   ]
  },
  {
   "cell_type": "code",
   "execution_count": 12,
   "metadata": {},
   "outputs": [],
   "source": [
    "import pyproj\n",
    "\n",
    "def lonlat_to_xy(lon, lat):\n",
    "    proj_latlon = pyproj.Proj(proj='latlong',datum='WGS84')\n",
    "    proj_xy = pyproj.Proj(proj=\"utm\", zone=33, datum='WGS84')\n",
    "    xy = pyproj.transform(proj_latlon, proj_xy, lon, lat)\n",
    "    return xy[0], xy[1]\n",
    "\n",
    "def xy_to_lonlat(x, y):\n",
    "    proj_latlon = pyproj.Proj(proj='latlong',datum='WGS84')\n",
    "    proj_xy = pyproj.Proj(proj=\"utm\", zone=33, datum='WGS84')\n",
    "    lonlat = pyproj.transform(proj_xy, proj_latlon, x, y)\n",
    "    return lonlat[0], lonlat[1]\n",
    "\n",
    "def calc_xy_distance(x1, y1, x2, y2):\n",
    "    dx = x2 - x1\n",
    "    dy = y2 - y1\n",
    "    return np.sqrt(dx*dx + dy*dy)"
   ]
  },
  {
   "cell_type": "code",
   "execution_count": 13,
   "metadata": {},
   "outputs": [
    {
     "name": "stdout",
     "output_type": "stream",
     "text": [
      "Coordinate transformation check\n",
      "-------------------------------\n",
      "Beirut center longitude=35.47843, latitude=33.8959203\n",
      "Beirut center UTM X=2408411.6000010185, Y=3945820.4263711767\n",
      "Beirut center longitude=35.47843, latitude=33.89592029999999\n"
     ]
    }
   ],
   "source": [
    "print('Coordinate transformation check')\n",
    "print('-------------------------------')\n",
    "print('Beirut center longitude={}, latitude={}'.format(longitude, latitude))\n",
    "x, y = lonlat_to_xy(longitude, latitude)\n",
    "print('Beirut center UTM X={}, Y={}'.format(x, y))\n",
    "lo, la = xy_to_lonlat(x, y)\n",
    "print('Beirut center longitude={}, latitude={}'.format(lo, la))"
   ]
  },
  {
   "cell_type": "markdown",
   "metadata": {},
   "source": [
    "__Neighborhoods distribution and calaculation of the main parameter for each neighborhood__"
   ]
  },
  {
   "cell_type": "code",
   "execution_count": 14,
   "metadata": {},
   "outputs": [
    {
     "name": "stdout",
     "output_type": "stream",
     "text": [
      "9 candidate neighborhood centers generated.\n"
     ]
    }
   ],
   "source": [
    "x_center, y_center = lonlat_to_xy(a_center_lng, a_center_lat)\n",
    "\n",
    "k = np.sqrt(3) / 2 # Vertical offset for hexagonal grid cells\n",
    "x_min = x_center - R\n",
    "x_step = 600\n",
    "y_min = y_center - R - (int(21/k)*k*600 - R*2)/2\n",
    "y_step = 600* k \n",
    "\n",
    "latitudes = []\n",
    "longitudes = []\n",
    "distances_from_center = []\n",
    "xs = []\n",
    "ys = []\n",
    "for i in range(0, int(21/k)):\n",
    "    y = y_min + i * y_step\n",
    "    x_offset = 300 if i%2==0 else 0\n",
    "    for j in range(0, 21):\n",
    "        x = x_min + j * x_step + x_offset\n",
    "        distance_from_center = calc_xy_distance(x_center, y_center, x, y)\n",
    "        if (distance_from_center <= (R+1)):\n",
    "            lon, lat = xy_to_lonlat(x, y)\n",
    "            latitudes.append(lat)\n",
    "            longitudes.append(lon)\n",
    "            distances_from_center.append(distance_from_center)\n",
    "            xs.append(x)\n",
    "            ys.append(y)\n",
    "\n",
    "print(len(latitudes), 'candidate neighborhood centers generated.')"
   ]
  },
  {
   "cell_type": "markdown",
   "metadata": {},
   "source": [
    "__Map Visualization__"
   ]
  },
  {
   "cell_type": "code",
   "execution_count": 15,
   "metadata": {},
   "outputs": [
    {
     "data": {
      "text/html": [
       "<div style=\"width:100%;\"><div style=\"position:relative;width:100%;height:0;padding-bottom:60%;\"><iframe src=\"about:blank\" style=\"position:absolute;width:100%;height:100%;left:0;top:0;border:none !important;\" data-html=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 onload=\"this.contentDocument.open();this.contentDocument.write(atob(this.getAttribute('data-html')));this.contentDocument.close();\" allowfullscreen webkitallowfullscreen mozallowfullscreen></iframe></div></div>"
      ],
      "text/plain": [
       "<folium.folium.Map at 0xf26ca59208>"
      ]
     },
     "execution_count": 15,
     "metadata": {},
     "output_type": "execute_result"
    }
   ],
   "source": [
    "venues_map = folium.Map(location=[latitude, longitude], zoom_start=13) # generate a map centred around Beirut\n",
    "\n",
    "# add a red circle marker to represent my location\n",
    "folium.features.CircleMarker(\n",
    "    [a_center_lat, a_center_lng],\n",
    "    radius=10,\n",
    "    color='red',\n",
    "    popup='Aggregate Center',\n",
    "    fill = True,\n",
    "    fill_color = 'red',\n",
    "    fill_opacity = 0.6\n",
    ").add_to(venues_map)\n",
    "\n",
    "# add the coffee shops as blue circle markers\n",
    "for lat, lng, label in zip(CS.lat, CS.lng, CS.categories):\n",
    "    folium.features.CircleMarker(\n",
    "        [lat, lng],\n",
    "        radius=5,\n",
    "        color='blue',\n",
    "        popup=label,\n",
    "        fill = True,\n",
    "        fill_color='blue',\n",
    "        fill_opacity=0.6\n",
    "    ).add_to(venues_map)\n",
    "    \n",
    "# add the universities as green circle markers\n",
    "for lat, lng, label in zip(univ.lat, univ.lng, univ.categories):\n",
    "    folium.features.CircleMarker(\n",
    "        [lat, lng],\n",
    "        radius=5,\n",
    "        color='green',\n",
    "        popup=label,\n",
    "        fill = True,\n",
    "        fill_color='green',\n",
    "        fill_opacity=0.6\n",
    "    ).add_to(venues_map)\n",
    "    \n",
    "for lat, lon in zip(latitudes, longitudes):\n",
    "       folium.Circle([lat, lon], radius=300, color='black', fill=False).add_to(venues_map)\n",
    "\n",
    "# display map\n",
    "venues_map"
   ]
  },
  {
   "cell_type": "code",
   "execution_count": 16,
   "metadata": {},
   "outputs": [
    {
     "data": {
      "text/html": [
       "<div>\n",
       "<style scoped>\n",
       "    .dataframe tbody tr th:only-of-type {\n",
       "        vertical-align: middle;\n",
       "    }\n",
       "\n",
       "    .dataframe tbody tr th {\n",
       "        vertical-align: top;\n",
       "    }\n",
       "\n",
       "    .dataframe thead th {\n",
       "        text-align: right;\n",
       "    }\n",
       "</style>\n",
       "<table border=\"1\" class=\"dataframe\">\n",
       "  <thead>\n",
       "    <tr style=\"text-align: right;\">\n",
       "      <th></th>\n",
       "      <th>Latitude</th>\n",
       "      <th>Longitude</th>\n",
       "      <th>X</th>\n",
       "      <th>Y</th>\n",
       "      <th>Distance from center</th>\n",
       "    </tr>\n",
       "  </thead>\n",
       "  <tbody>\n",
       "    <tr>\n",
       "      <th>0</th>\n",
       "      <td>33.892429</td>\n",
       "      <td>35.476874</td>\n",
       "      <td>2.408347e+06</td>\n",
       "      <td>3.945394e+06</td>\n",
       "      <td>655.743852</td>\n",
       "    </tr>\n",
       "    <tr>\n",
       "      <th>1</th>\n",
       "      <td>33.891373</td>\n",
       "      <td>35.482951</td>\n",
       "      <td>2.408947e+06</td>\n",
       "      <td>3.945394e+06</td>\n",
       "      <td>556.776436</td>\n",
       "    </tr>\n",
       "    <tr>\n",
       "      <th>2</th>\n",
       "      <td>33.890317</td>\n",
       "      <td>35.489028</td>\n",
       "      <td>2.409547e+06</td>\n",
       "      <td>3.945394e+06</td>\n",
       "      <td>953.939201</td>\n",
       "    </tr>\n",
       "    <tr>\n",
       "      <th>3</th>\n",
       "      <td>33.897346</td>\n",
       "      <td>35.474931</td>\n",
       "      <td>2.408047e+06</td>\n",
       "      <td>3.945913e+06</td>\n",
       "      <td>700.000000</td>\n",
       "    </tr>\n",
       "    <tr>\n",
       "      <th>4</th>\n",
       "      <td>33.896290</td>\n",
       "      <td>35.481009</td>\n",
       "      <td>2.408647e+06</td>\n",
       "      <td>3.945913e+06</td>\n",
       "      <td>100.000000</td>\n",
       "    </tr>\n",
       "    <tr>\n",
       "      <th>5</th>\n",
       "      <td>33.895234</td>\n",
       "      <td>35.487087</td>\n",
       "      <td>2.409247e+06</td>\n",
       "      <td>3.945913e+06</td>\n",
       "      <td>500.000000</td>\n",
       "    </tr>\n",
       "    <tr>\n",
       "      <th>6</th>\n",
       "      <td>33.901208</td>\n",
       "      <td>35.479067</td>\n",
       "      <td>2.408347e+06</td>\n",
       "      <td>3.946433e+06</td>\n",
       "      <td>655.743852</td>\n",
       "    </tr>\n",
       "    <tr>\n",
       "      <th>7</th>\n",
       "      <td>33.900151</td>\n",
       "      <td>35.485145</td>\n",
       "      <td>2.408947e+06</td>\n",
       "      <td>3.946433e+06</td>\n",
       "      <td>556.776436</td>\n",
       "    </tr>\n",
       "    <tr>\n",
       "      <th>8</th>\n",
       "      <td>33.899095</td>\n",
       "      <td>35.491223</td>\n",
       "      <td>2.409547e+06</td>\n",
       "      <td>3.946433e+06</td>\n",
       "      <td>953.939201</td>\n",
       "    </tr>\n",
       "  </tbody>\n",
       "</table>\n",
       "</div>"
      ],
      "text/plain": [
       "    Latitude  Longitude             X             Y  Distance from center\n",
       "0  33.892429  35.476874  2.408347e+06  3.945394e+06            655.743852\n",
       "1  33.891373  35.482951  2.408947e+06  3.945394e+06            556.776436\n",
       "2  33.890317  35.489028  2.409547e+06  3.945394e+06            953.939201\n",
       "3  33.897346  35.474931  2.408047e+06  3.945913e+06            700.000000\n",
       "4  33.896290  35.481009  2.408647e+06  3.945913e+06            100.000000\n",
       "5  33.895234  35.487087  2.409247e+06  3.945913e+06            500.000000\n",
       "6  33.901208  35.479067  2.408347e+06  3.946433e+06            655.743852\n",
       "7  33.900151  35.485145  2.408947e+06  3.946433e+06            556.776436\n",
       "8  33.899095  35.491223  2.409547e+06  3.946433e+06            953.939201"
      ]
     },
     "execution_count": 16,
     "metadata": {},
     "output_type": "execute_result"
    }
   ],
   "source": [
    "df_neighborhood = pd.DataFrame({'Latitude': latitudes,\n",
    "                             'Longitude': longitudes,\n",
    "                             'X': xs,\n",
    "                             'Y': ys,\n",
    "                             'Distance from center': distances_from_center})\n",
    "df_neighborhood"
   ]
  },
  {
   "cell_type": "markdown",
   "metadata": {},
   "source": [
    "__Calculation of the number of existing competitors in each neighborhood__"
   ]
  },
  {
   "cell_type": "code",
   "execution_count": 17,
   "metadata": {},
   "outputs": [
    {
     "data": {
      "text/plain": [
       "[2, 0, 0, 4, 12, 4, 0, 2, 0]"
      ]
     },
     "execution_count": 17,
     "metadata": {},
     "output_type": "execute_result"
    }
   ],
   "source": [
    "# Calculating the number of coffee shops in each area\n",
    "r = 300\n",
    "number_of_cs = []\n",
    "for j in df_neighborhood.index:\n",
    "    counts = 0\n",
    "    for i in CS.index:\n",
    "        x, y = lonlat_to_xy(CS['lng'][i], CS['lat'][i])\n",
    "        if calc_xy_distance(df_neighborhood['X'][j],df_neighborhood['Y'][j], x, y) < r:\n",
    "            counts = counts +1\n",
    "    number_of_cs.append(counts)    \n",
    "number_of_cs"
   ]
  },
  {
   "cell_type": "code",
   "execution_count": 18,
   "metadata": {},
   "outputs": [],
   "source": [
    "CS_nb = pd.DataFrame({'Number of coffee shops':number_of_cs})"
   ]
  },
  {
   "cell_type": "code",
   "execution_count": 19,
   "metadata": {},
   "outputs": [
    {
     "data": {
      "text/html": [
       "<div>\n",
       "<style scoped>\n",
       "    .dataframe tbody tr th:only-of-type {\n",
       "        vertical-align: middle;\n",
       "    }\n",
       "\n",
       "    .dataframe tbody tr th {\n",
       "        vertical-align: top;\n",
       "    }\n",
       "\n",
       "    .dataframe thead th {\n",
       "        text-align: right;\n",
       "    }\n",
       "</style>\n",
       "<table border=\"1\" class=\"dataframe\">\n",
       "  <thead>\n",
       "    <tr style=\"text-align: right;\">\n",
       "      <th></th>\n",
       "      <th>Latitude</th>\n",
       "      <th>Longitude</th>\n",
       "      <th>X</th>\n",
       "      <th>Y</th>\n",
       "      <th>Distance from center</th>\n",
       "      <th>Number of coffee shops</th>\n",
       "    </tr>\n",
       "  </thead>\n",
       "  <tbody>\n",
       "    <tr>\n",
       "      <th>0</th>\n",
       "      <td>33.892429</td>\n",
       "      <td>35.476874</td>\n",
       "      <td>2.408347e+06</td>\n",
       "      <td>3.945394e+06</td>\n",
       "      <td>655.743852</td>\n",
       "      <td>2</td>\n",
       "    </tr>\n",
       "    <tr>\n",
       "      <th>1</th>\n",
       "      <td>33.891373</td>\n",
       "      <td>35.482951</td>\n",
       "      <td>2.408947e+06</td>\n",
       "      <td>3.945394e+06</td>\n",
       "      <td>556.776436</td>\n",
       "      <td>0</td>\n",
       "    </tr>\n",
       "    <tr>\n",
       "      <th>2</th>\n",
       "      <td>33.890317</td>\n",
       "      <td>35.489028</td>\n",
       "      <td>2.409547e+06</td>\n",
       "      <td>3.945394e+06</td>\n",
       "      <td>953.939201</td>\n",
       "      <td>0</td>\n",
       "    </tr>\n",
       "    <tr>\n",
       "      <th>3</th>\n",
       "      <td>33.897346</td>\n",
       "      <td>35.474931</td>\n",
       "      <td>2.408047e+06</td>\n",
       "      <td>3.945913e+06</td>\n",
       "      <td>700.000000</td>\n",
       "      <td>4</td>\n",
       "    </tr>\n",
       "    <tr>\n",
       "      <th>4</th>\n",
       "      <td>33.896290</td>\n",
       "      <td>35.481009</td>\n",
       "      <td>2.408647e+06</td>\n",
       "      <td>3.945913e+06</td>\n",
       "      <td>100.000000</td>\n",
       "      <td>12</td>\n",
       "    </tr>\n",
       "    <tr>\n",
       "      <th>5</th>\n",
       "      <td>33.895234</td>\n",
       "      <td>35.487087</td>\n",
       "      <td>2.409247e+06</td>\n",
       "      <td>3.945913e+06</td>\n",
       "      <td>500.000000</td>\n",
       "      <td>4</td>\n",
       "    </tr>\n",
       "    <tr>\n",
       "      <th>6</th>\n",
       "      <td>33.901208</td>\n",
       "      <td>35.479067</td>\n",
       "      <td>2.408347e+06</td>\n",
       "      <td>3.946433e+06</td>\n",
       "      <td>655.743852</td>\n",
       "      <td>0</td>\n",
       "    </tr>\n",
       "    <tr>\n",
       "      <th>7</th>\n",
       "      <td>33.900151</td>\n",
       "      <td>35.485145</td>\n",
       "      <td>2.408947e+06</td>\n",
       "      <td>3.946433e+06</td>\n",
       "      <td>556.776436</td>\n",
       "      <td>2</td>\n",
       "    </tr>\n",
       "    <tr>\n",
       "      <th>8</th>\n",
       "      <td>33.899095</td>\n",
       "      <td>35.491223</td>\n",
       "      <td>2.409547e+06</td>\n",
       "      <td>3.946433e+06</td>\n",
       "      <td>953.939201</td>\n",
       "      <td>0</td>\n",
       "    </tr>\n",
       "  </tbody>\n",
       "</table>\n",
       "</div>"
      ],
      "text/plain": [
       "    Latitude  Longitude             X             Y  Distance from center  \\\n",
       "0  33.892429  35.476874  2.408347e+06  3.945394e+06            655.743852   \n",
       "1  33.891373  35.482951  2.408947e+06  3.945394e+06            556.776436   \n",
       "2  33.890317  35.489028  2.409547e+06  3.945394e+06            953.939201   \n",
       "3  33.897346  35.474931  2.408047e+06  3.945913e+06            700.000000   \n",
       "4  33.896290  35.481009  2.408647e+06  3.945913e+06            100.000000   \n",
       "5  33.895234  35.487087  2.409247e+06  3.945913e+06            500.000000   \n",
       "6  33.901208  35.479067  2.408347e+06  3.946433e+06            655.743852   \n",
       "7  33.900151  35.485145  2.408947e+06  3.946433e+06            556.776436   \n",
       "8  33.899095  35.491223  2.409547e+06  3.946433e+06            953.939201   \n",
       "\n",
       "   Number of coffee shops  \n",
       "0                       2  \n",
       "1                       0  \n",
       "2                       0  \n",
       "3                       4  \n",
       "4                      12  \n",
       "5                       4  \n",
       "6                       0  \n",
       "7                       2  \n",
       "8                       0  "
      ]
     },
     "execution_count": 19,
     "metadata": {},
     "output_type": "execute_result"
    }
   ],
   "source": [
    "result = pd.DataFrame({'Latitude': latitudes,\n",
    "                             'Longitude': longitudes,\n",
    "                             'X': xs,\n",
    "                             'Y': ys,\n",
    "                             'Distance from center': distances_from_center,\n",
    "                             'Number of coffee shops':number_of_cs})\n",
    "result"
   ]
  },
  {
   "cell_type": "markdown",
   "metadata": {},
   "source": [
    "### Evaluation"
   ]
  },
  {
   "cell_type": "code",
   "execution_count": 20,
   "metadata": {},
   "outputs": [],
   "source": [
    "Competition = 0.5\n",
    "Proximity = 1- Competition\n",
    "result['Evaluation Scoring'] = (1-result['Number of coffee shops']/result['Number of coffee shops'].max())*Competition + (result['Distance from center'].min()/result['Distance from center'])*Proximity"
   ]
  },
  {
   "cell_type": "code",
   "execution_count": 21,
   "metadata": {},
   "outputs": [
    {
     "data": {
      "text/html": [
       "<div>\n",
       "<style scoped>\n",
       "    .dataframe tbody tr th:only-of-type {\n",
       "        vertical-align: middle;\n",
       "    }\n",
       "\n",
       "    .dataframe tbody tr th {\n",
       "        vertical-align: top;\n",
       "    }\n",
       "\n",
       "    .dataframe thead th {\n",
       "        text-align: right;\n",
       "    }\n",
       "</style>\n",
       "<table border=\"1\" class=\"dataframe\">\n",
       "  <thead>\n",
       "    <tr style=\"text-align: right;\">\n",
       "      <th></th>\n",
       "      <th>Latitude</th>\n",
       "      <th>Longitude</th>\n",
       "      <th>X</th>\n",
       "      <th>Y</th>\n",
       "      <th>Distance from center</th>\n",
       "      <th>Number of coffee shops</th>\n",
       "      <th>Evaluation Scoring</th>\n",
       "    </tr>\n",
       "  </thead>\n",
       "  <tbody>\n",
       "    <tr>\n",
       "      <th>0</th>\n",
       "      <td>33.891373</td>\n",
       "      <td>35.482951</td>\n",
       "      <td>2.408947e+06</td>\n",
       "      <td>3.945394e+06</td>\n",
       "      <td>556.776436</td>\n",
       "      <td>0</td>\n",
       "      <td>0.589803</td>\n",
       "    </tr>\n",
       "    <tr>\n",
       "      <th>1</th>\n",
       "      <td>33.901208</td>\n",
       "      <td>35.479067</td>\n",
       "      <td>2.408347e+06</td>\n",
       "      <td>3.946433e+06</td>\n",
       "      <td>655.743852</td>\n",
       "      <td>0</td>\n",
       "      <td>0.576249</td>\n",
       "    </tr>\n",
       "    <tr>\n",
       "      <th>2</th>\n",
       "      <td>33.899095</td>\n",
       "      <td>35.491223</td>\n",
       "      <td>2.409547e+06</td>\n",
       "      <td>3.946433e+06</td>\n",
       "      <td>953.939201</td>\n",
       "      <td>0</td>\n",
       "      <td>0.552414</td>\n",
       "    </tr>\n",
       "    <tr>\n",
       "      <th>3</th>\n",
       "      <td>33.890317</td>\n",
       "      <td>35.489028</td>\n",
       "      <td>2.409547e+06</td>\n",
       "      <td>3.945394e+06</td>\n",
       "      <td>953.939201</td>\n",
       "      <td>0</td>\n",
       "      <td>0.552414</td>\n",
       "    </tr>\n",
       "    <tr>\n",
       "      <th>4</th>\n",
       "      <td>33.900151</td>\n",
       "      <td>35.485145</td>\n",
       "      <td>2.408947e+06</td>\n",
       "      <td>3.946433e+06</td>\n",
       "      <td>556.776436</td>\n",
       "      <td>2</td>\n",
       "      <td>0.506469</td>\n",
       "    </tr>\n",
       "  </tbody>\n",
       "</table>\n",
       "</div>"
      ],
      "text/plain": [
       "    Latitude  Longitude             X             Y  Distance from center  \\\n",
       "0  33.891373  35.482951  2.408947e+06  3.945394e+06            556.776436   \n",
       "1  33.901208  35.479067  2.408347e+06  3.946433e+06            655.743852   \n",
       "2  33.899095  35.491223  2.409547e+06  3.946433e+06            953.939201   \n",
       "3  33.890317  35.489028  2.409547e+06  3.945394e+06            953.939201   \n",
       "4  33.900151  35.485145  2.408947e+06  3.946433e+06            556.776436   \n",
       "\n",
       "   Number of coffee shops  Evaluation Scoring  \n",
       "0                       0            0.589803  \n",
       "1                       0            0.576249  \n",
       "2                       0            0.552414  \n",
       "3                       0            0.552414  \n",
       "4                       2            0.506469  "
      ]
     },
     "execution_count": 21,
     "metadata": {},
     "output_type": "execute_result"
    }
   ],
   "source": [
    "result.sort_values(by=['Evaluation Scoring'], ascending = False, ignore_index = True).head()"
   ]
  },
  {
   "cell_type": "code",
   "execution_count": 22,
   "metadata": {},
   "outputs": [],
   "source": [
    "recom = result.loc[(result['Evaluation Scoring'] == result['Evaluation Scoring'].max()), ['Latitude','Longitude']]"
   ]
  },
  {
   "cell_type": "code",
   "execution_count": 23,
   "metadata": {},
   "outputs": [],
   "source": [
    "lat_recom = recom['Latitude'][1]\n",
    "lng_recom = recom['Longitude'][1]"
   ]
  },
  {
   "cell_type": "code",
   "execution_count": 29,
   "metadata": {},
   "outputs": [
    {
     "data": {
      "text/html": [
       "<div style=\"width:100%;\"><div style=\"position:relative;width:100%;height:0;padding-bottom:60%;\"><iframe src=\"about:blank\" style=\"position:absolute;width:100%;height:100%;left:0;top:0;border:none !important;\" data-html=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 onload=\"this.contentDocument.open();this.contentDocument.write(atob(this.getAttribute('data-html')));this.contentDocument.close();\" allowfullscreen webkitallowfullscreen mozallowfullscreen></iframe></div></div>"
      ],
      "text/plain": [
       "<folium.folium.Map at 0xf276993388>"
      ]
     },
     "execution_count": 29,
     "metadata": {},
     "output_type": "execute_result"
    }
   ],
   "source": [
    "venues_map = folium.Map(location=[latitude, longitude], zoom_start=15) # generate a map centred around Beirut\n",
    "\n",
    "# add a red circle marker to represent my location\n",
    "folium.features.CircleMarker(\n",
    "    [a_center_lat, a_center_lng],\n",
    "    radius=10,\n",
    "    color='red',\n",
    "    popup='Aggregate Center',\n",
    "    fill = True,\n",
    "    fill_color = 'red',\n",
    "    fill_opacity = 0.6\n",
    ").add_to(venues_map)\n",
    "\n",
    "# add the coffee shops as blue circle markers\n",
    "for lat, lng, label in zip(CS.lat, CS.lng, CS.categories):\n",
    "    folium.features.CircleMarker(\n",
    "        [lat, lng],\n",
    "        radius=5,\n",
    "        color='blue',\n",
    "        popup=label,\n",
    "        fill = True,\n",
    "        fill_color='blue',\n",
    "        fill_opacity=0.6\n",
    "    ).add_to(venues_map)\n",
    "    \n",
    "# add the universities as green circle markers\n",
    "for lat, lng, label in zip(univ.lat, univ.lng, univ.categories):\n",
    "    folium.features.CircleMarker(\n",
    "        [lat, lng],\n",
    "        radius=5,\n",
    "        color='green',\n",
    "        popup=label,\n",
    "        fill = True,\n",
    "        fill_color='green',\n",
    "        fill_opacity=0.6\n",
    "    ).add_to(venues_map)\n",
    "    \n",
    "for lat, lon in zip(latitudes, longitudes):\n",
    "       folium.Circle([lat, lon], radius=300, color='black', fill=False).add_to(venues_map)\n",
    "\n",
    "# Recommended area\n",
    "folium.Circle(\n",
    "    [lat_recom, lng_recom],\n",
    "    radius=300,\n",
    "    color='red',\n",
    "    popup='recommended area',\n",
    "    fill = True,\n",
    "    fill_color = 'red',\n",
    "    fill_opacity = 0.1\n",
    ").add_to(venues_map)\n",
    "        \n",
    "# display map\n",
    "venues_map"
   ]
  }
 ],
 "metadata": {
  "kernelspec": {
   "display_name": "Python 3",
   "language": "python",
   "name": "python3"
  },
  "language_info": {
   "codemirror_mode": {
    "name": "ipython",
    "version": 3
   },
   "file_extension": ".py",
   "mimetype": "text/x-python",
   "name": "python",
   "nbconvert_exporter": "python",
   "pygments_lexer": "ipython3",
   "version": "3.7.6"
  }
 },
 "nbformat": 4,
 "nbformat_minor": 4
}
